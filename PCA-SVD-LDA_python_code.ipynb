{
  "nbformat": 4,
  "nbformat_minor": 0,
  "metadata": {
    "colab": {
      "provenance": [],
      "authorship_tag": "ABX9TyNJShcVcync2bwfOMPDb5dD",
      "include_colab_link": true
    },
    "kernelspec": {
      "name": "python3",
      "display_name": "Python 3"
    },
    "language_info": {
      "name": "python"
    }
  },
  "cells": [
    {
      "cell_type": "markdown",
      "metadata": {
        "id": "view-in-github",
        "colab_type": "text"
      },
      "source": [
        "<a href=\"https://colab.research.google.com/github/codewithharsha/Machine-Learning-Lab/blob/main/PCA-SVD-LDA_python_code.ipynb\" target=\"_parent\"><img src=\"https://colab.research.google.com/assets/colab-badge.svg\" alt=\"Open In Colab\"/></a>"
      ]
    },
    {
      "cell_type": "code",
      "execution_count": 88,
      "metadata": {
        "id": "VmC2uT7x1mDt"
      },
      "outputs": [],
      "source": [
        "import pandas as pd\n",
        "import numpy as np\n",
        "from sklearn.decomposition import PCA\n",
        "from sklearn.datasets import load_digits\n",
        "from sklearn.metrics import accuracy_score,precision_score,recall_score,f1_score\n",
        "from sklearn.metrics import cohen_kappa_score\n",
        "from sklearn.metrics import confusion_matrix"
      ]
    },
    {
      "cell_type": "code",
      "source": [
        "dataset = load_digits()\n",
        "x = dataset.data\n",
        "y = dataset.target"
      ],
      "metadata": {
        "id": "7_z7QETg16rp"
      },
      "execution_count": 89,
      "outputs": []
    },
    {
      "cell_type": "code",
      "source": [
        "x[0]\n",
        "y_2d = y.reshape(1,-1)"
      ],
      "metadata": {
        "id": "ID9r855g2Q1x"
      },
      "execution_count": 90,
      "outputs": []
    },
    {
      "cell_type": "code",
      "source": [
        "import matplotlib.pyplot as plt"
      ],
      "metadata": {
        "id": "KIBiXWng2vIA"
      },
      "execution_count": 91,
      "outputs": []
    },
    {
      "cell_type": "code",
      "source": [
        "x[0].reshape(8,8)\n"
      ],
      "metadata": {
        "colab": {
          "base_uri": "https://localhost:8080/"
        },
        "id": "61Qg-Q_H4pu5",
        "outputId": "ef4e09db-b173-4219-d6c4-428960402866"
      },
      "execution_count": 92,
      "outputs": [
        {
          "output_type": "execute_result",
          "data": {
            "text/plain": [
              "array([[ 0.,  0.,  5., 13.,  9.,  1.,  0.,  0.],\n",
              "       [ 0.,  0., 13., 15., 10., 15.,  5.,  0.],\n",
              "       [ 0.,  3., 15.,  2.,  0., 11.,  8.,  0.],\n",
              "       [ 0.,  4., 12.,  0.,  0.,  8.,  8.,  0.],\n",
              "       [ 0.,  5.,  8.,  0.,  0.,  9.,  8.,  0.],\n",
              "       [ 0.,  4., 11.,  0.,  1., 12.,  7.,  0.],\n",
              "       [ 0.,  2., 14.,  5., 10., 12.,  0.,  0.],\n",
              "       [ 0.,  0.,  6., 13., 10.,  0.,  0.,  0.]])"
            ]
          },
          "metadata": {},
          "execution_count": 92
        }
      ]
    },
    {
      "cell_type": "code",
      "source": [
        "val = x[5].reshape(8,8)\n",
        "plt.gray()\n",
        "plt.matshow(val)"
      ],
      "metadata": {
        "colab": {
          "base_uri": "https://localhost:8080/",
          "height": 472
        },
        "id": "ndjoct7Y20oJ",
        "outputId": "4585f4a1-7ee0-4f2f-869e-7fd648e0b020"
      },
      "execution_count": 93,
      "outputs": [
        {
          "output_type": "execute_result",
          "data": {
            "text/plain": [
              "<matplotlib.image.AxesImage at 0x78b2bdf9eaa0>"
            ]
          },
          "metadata": {},
          "execution_count": 93
        },
        {
          "output_type": "display_data",
          "data": {
            "text/plain": [
              "<Figure size 640x480 with 0 Axes>"
            ]
          },
          "metadata": {}
        },
        {
          "output_type": "display_data",
          "data": {
            "text/plain": [
              "<Figure size 480x480 with 1 Axes>"
            ],
            "image/png": "[encoded data removed]"
          },
          "metadata": {}
        }
      ]
    },
    {
      "cell_type": "code",
      "source": [
        "from sklearn.linear_model import LogisticRegression\n",
        "from sklearn.model_selection import train_test_split\n",
        "x_train,x_test,y_train,y_test = train_test_split(x,y,test_size=0.2,random_state=30)\n",
        "model = LogisticRegression(max_iter = 4000)\n",
        "model.fit(x_train,y_train)\n",
        "y_pred = model.predict(x_test)\n",
        "cm = confusion_matrix(y_test,y_pred)\n",
        "spec = cm[0][0]/cm[0][0]+cm[0][1]\n",
        "print(accuracy_score(y_test,y_pred))\n",
        "print(recall_score(y_test,y_pred,average=\"micro\"))\n",
        "print(spec)\n",
        "print(precision_score(y_test,y_pred,average=\"micro\"))\n",
        "print(f1_score(y_test,y_pred,average=\"micro\"))\n",
        "print(cohen_kappa_score(y_test,y_pred))"
      ],
      "metadata": {
        "colab": {
          "base_uri": "https://localhost:8080/"
        },
        "id": "XzzrLJyR3juF",
        "outputId": "d22b3d02-9a1b-40fc-c244-22bbfc35520d"
      },
      "execution_count": 94,
      "outputs": [
        {
          "output_type": "stream",
          "name": "stdout",
          "text": [
            "0.975\n",
            "0.975\n",
            "1.0\n",
            "0.975\n",
            "0.975\n",
            "0.9721575333636965\n"
          ]
        }
      ]
    },
    {
      "cell_type": "code",
      "source": [
        "# Scaling down the features\n",
        "from sklearn.preprocessing import StandardScaler\n",
        "scalar = StandardScaler()\n",
        "x_scaled = scalar.fit_transform(x)\n",
        "y_scaled = scalar.fit_transform(y_2d)"
      ],
      "metadata": {
        "id": "Sh2yfDWS6tmQ"
      },
      "execution_count": 95,
      "outputs": []
    },
    {
      "cell_type": "markdown",
      "source": [
        "Using PCA"
      ],
      "metadata": {
        "id": "9YIreADg64tA"
      }
    },
    {
      "cell_type": "code",
      "source": [
        "pca = PCA(0.90)\n",
        "x_pca = pca.fit_transform(x_scaled)\n",
        "x_pca_train,x_pca_tes,y_train,y_test = train_test_split(x_pca,y,test_size=0.2,random_state=30)\n",
        "pca.n_components_"
      ],
      "metadata": {
        "colab": {
          "base_uri": "https://localhost:8080/"
        },
        "id": "csK91LKK7RpU",
        "outputId": "cd6dd944-29f5-468a-c977-eefff35eda44"
      },
      "execution_count": 96,
      "outputs": [
        {
          "output_type": "execute_result",
          "data": {
            "text/plain": [
              "31"
            ]
          },
          "metadata": {},
          "execution_count": 96
        }
      ]
    },
    {
      "cell_type": "code",
      "source": [
        "model.fit(x_pca_train,y_train)\n",
        "y_pca_pred = model.predict(x_pca_tes)"
      ],
      "metadata": {
        "id": "XrcGybSg71QK"
      },
      "execution_count": 97,
      "outputs": []
    },
    {
      "cell_type": "code",
      "source": [
        "cm = confusion_matrix(y_test,y_pred)\n",
        "spec = cm[0][0]/cm[0][0]+cm[0][1]\n",
        "print(accuracy_score(y_test,y_pca_pred))\n",
        "print(recall_score(y_test,y_pca_pred,average=\"micro\"))\n",
        "print(spec)\n",
        "print(precision_score(y_test,y_pca_pred,average=\"micro\"))\n",
        "print(f1_score(y_test,y_pca_pred,average=\"micro\"))\n",
        "print(cohen_kappa_score(y_test,y_pca_pred))"
      ],
      "metadata": {
        "id": "h1b_6Cry7_Sj",
        "colab": {
          "base_uri": "https://localhost:8080/"
        },
        "outputId": "b8c39abe-9c67-44eb-e09f-f95db28dd6a9"
      },
      "execution_count": 98,
      "outputs": [
        {
          "output_type": "stream",
          "name": "stdout",
          "text": [
            "0.9638888888888889\n",
            "0.9638888888888889\n",
            "1.0\n",
            "0.9638888888888889\n",
            "0.9638888888888889\n",
            "0.9597945052490507\n"
          ]
        }
      ]
    },
    {
      "cell_type": "markdown",
      "source": [
        "Using SVD"
      ],
      "metadata": {
        "id": "muqQAA13ZsG3"
      }
    },
    {
      "cell_type": "code",
      "source": [
        "from sklearn.decomposition import TruncatedSVD\n",
        "svd = TruncatedSVD(30)"
      ],
      "metadata": {
        "id": "6w5K-RFKZWZ_"
      },
      "execution_count": 99,
      "outputs": []
    },
    {
      "cell_type": "code",
      "source": [
        "x_svd = svd.fit_transform(x_scaled)\n",
        "x_train_svd,x_test_svd,y_train,y_test = train_test_split(x_svd,y,test_size=0.2,random_state=30)"
      ],
      "metadata": {
        "id": "nPik0x1pZpUU"
      },
      "execution_count": 100,
      "outputs": []
    },
    {
      "cell_type": "code",
      "source": [
        "model.fit(x_train_svd,y_train)\n",
        "y_svd_pred = model.predict(x_test_svd)"
      ],
      "metadata": {
        "id": "AYL5qUZwaUxR"
      },
      "execution_count": 101,
      "outputs": []
    },
    {
      "cell_type": "code",
      "source": [
        "cm = confusion_matrix(y_test,y_pred)\n",
        "spec = cm[0][0]/cm[0][0]+cm[0][1]\n",
        "print(accuracy_score(y_test,y_svd_pred))\n",
        "print(recall_score(y_test,y_svd_pred,average=\"micro\"))\n",
        "print(spec)\n",
        "print(precision_score(y_test,y_svd_pred,average=\"micro\"))\n",
        "print(f1_score(y_test,y_svd_pred,average=\"micro\"))\n",
        "print(cohen_kappa_score(y_test,y_svd_pred))"
      ],
      "metadata": {
        "colab": {
          "base_uri": "https://localhost:8080/"
        },
        "id": "Xvyim2KBaqsG",
        "outputId": "a682ef95-3869-48ee-cc49-713adbc08d4b"
      },
      "execution_count": 102,
      "outputs": [
        {
          "output_type": "stream",
          "name": "stdout",
          "text": [
            "0.9638888888888889\n",
            "0.9638888888888889\n",
            "1.0\n",
            "0.9638888888888889\n",
            "0.9638888888888889\n",
            "0.9597958868099582\n"
          ]
        }
      ]
    },
    {
      "cell_type": "markdown",
      "source": [
        "## Using LDA"
      ],
      "metadata": {
        "id": "zLCcvKr5a_Fl"
      }
    },
    {
      "cell_type": "code",
      "source": [
        "from sklearn.discriminant_analysis import LinearDiscriminantAnalysis as LDA\n",
        "lda = LDA(n_components=5)\n",
        "#Note:Here n_components must be <= no.of class varibles unlike the PCA and SVD algorithims"
      ],
      "metadata": {
        "id": "GSf0N49Sazto"
      },
      "execution_count": 103,
      "outputs": []
    },
    {
      "cell_type": "code",
      "source": [
        "x_lda = lda.fit_transform(x_scaled,y)\n",
        "x_train_lda,x_test_lda,y_train,y_test = train_test_split(x_lda,y,test_size=0.2,random_state=30)"
      ],
      "metadata": {
        "id": "BzzZ4P9qcu8V"
      },
      "execution_count": 104,
      "outputs": []
    },
    {
      "cell_type": "code",
      "source": [
        "model.fit(x_train_lda,y_train)\n",
        "y_pred_lda = model.predict(x_test_lda)"
      ],
      "metadata": {
        "id": "lTKp-md5dOF4"
      },
      "execution_count": 105,
      "outputs": []
    },
    {
      "cell_type": "code",
      "source": [
        "cm = confusion_matrix(y_test,y_pred)\n",
        "spec = cm[0][0]/cm[0][0]+cm[0][1]\n",
        "print(accuracy_score(y_test,y_pred_lda))\n",
        "print(recall_score(y_test,y_pred_lda,average=\"micro\"))\n",
        "print(spec)\n",
        "print(precision_score(y_test,y_pred_lda,average=\"micro\"))\n",
        "print(f1_score(y_test,y_pred_lda,average=\"micro\"))\n",
        "print(cohen_kappa_score(y_test,y_pred_lda))"
      ],
      "metadata": {
        "colab": {
          "base_uri": "https://localhost:8080/"
        },
        "id": "nrPi92oqhqo_",
        "outputId": "d0c21e26-dcdb-4c52-c859-8c9a3c975bf9"
      },
      "execution_count": 106,
      "outputs": [
        {
          "output_type": "stream",
          "name": "stdout",
          "text": [
            "0.9138888888888889\n",
            "0.9138888888888889\n",
            "1.0\n",
            "0.9138888888888889\n",
            "0.9138888888888888\n",
            "0.9041615856276729\n"
          ]
        }
      ]
    },
    {
      "cell_type": "code",
      "source": [],
      "metadata": {
        "id": "9k2tXuiPhzt2"
      },
      "execution_count": 106,
      "outputs": []
    }
  ]
}